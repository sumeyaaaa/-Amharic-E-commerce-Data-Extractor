{
 "cells": [
  {
   "cell_type": "code",
   "execution_count": null,
   "id": "65f54a9b",
   "metadata": {},
   "outputs": [],
   "source": []
  },
  {
   "cell_type": "code",
   "execution_count": 6,
   "id": "f344670b",
   "metadata": {},
   "outputs": [],
   "source": [
    "import pandas as pd\n",
    "\n",
    "file_path = r'C:\\Users\\ABC\\Downloads\\ner_auto_labels.conll'\n",
    "\n",
    "tokens = []\n",
    "labels = []\n",
    "sentence_id = []\n",
    "current_sentence = 0\n",
    "\n",
    "with open(file_path, 'r', encoding='utf-8') as file:\n",
    "    for line in file:\n",
    "        line = line.strip()\n",
    "        if not line:\n",
    "            current_sentence += 1  # new sentence separator\n",
    "            continue\n",
    "        parts = line.split()\n",
    "        if len(parts) == 2:\n",
    "            tokens.append(parts[0])\n",
    "            labels.append(parts[1])\n",
    "            sentence_id.append(current_sentence)\n",
    "\n",
    "# Create DataFrame\n",
    "df = pd.DataFrame({\n",
    "    'SentenceID': sentence_id,\n",
    "    'Token': tokens,\n",
    "    'Label': labels\n",
    "})\n",
    "\n",
    "# Optional: Save to Excel\n",
    "df.to_excel('ner_data_from_conll.xlsx', index=False)\n"
   ]
  },
  {
   "cell_type": "code",
   "execution_count": 9,
   "id": "dbb7ecdf",
   "metadata": {},
   "outputs": [
    {
     "data": {
      "text/plain": [
       "array(['B-PRODUCT', 'I-PRODUCT', 'O', 'B-LOC', 'I-LOC', 'B-PRICE',\n",
       "       'I-PRICE'], dtype=object)"
      ]
     },
     "execution_count": 9,
     "metadata": {},
     "output_type": "execute_result"
    }
   ],
   "source": [
    "df['Label'].unique()  # Display unique labels in the DataFrame"
   ]
  },
  {
   "cell_type": "code",
   "execution_count": 11,
   "id": "b5f7c9a1",
   "metadata": {},
   "outputs": [],
   "source": [
    "import pandas as pd\n",
    "\n",
    "# Assume df has columns: SentenceID, Token, Label\n",
    "df = pd.read_excel(r\"C:\\Users\\ABC\\Desktop\\conll_edited.xlsx\")\n",
    "\n",
    "# Make sure data is sorted by SentenceID (just in case)\n",
    "df = df.sort_values(\"ID\").reset_index(drop=True)\n",
    "\n",
    "# List to hold rows with gaps\n",
    "new_rows = []\n",
    "\n",
    "# Track current SentenceID\n",
    "current_id = None\n",
    "\n",
    "for _, row in df.iterrows():\n",
    "    if current_id is None:\n",
    "        current_id = row[\"ID\"]\n",
    "    elif row[\"ID\"] != current_id:\n",
    "        new_rows.append({\"Token\": \"\", \"Label\": \"\"})  # <-- Blank line\n",
    "        current_id = row[\"ID\"]\n",
    "    \n",
    "    new_rows.append({\"Token\": row[\"Token\"], \"Label\": row[\"Label\"]})\n",
    "\n",
    "# Convert back to DataFrame\n",
    "gapped_df = pd.DataFrame(new_rows)\n",
    "\n",
    "# Optional: Save to .conll format\n",
    "gapped_df.to_csv(\"ner_data_with_gaps.conll\", index=False, header=False, sep=\" \")\n"
   ]
  }
 ],
 "metadata": {
  "kernelspec": {
   "display_name": ".venv",
   "language": "python",
   "name": "python3"
  },
  "language_info": {
   "codemirror_mode": {
    "name": "ipython",
    "version": 3
   },
   "file_extension": ".py",
   "mimetype": "text/x-python",
   "name": "python",
   "nbconvert_exporter": "python",
   "pygments_lexer": "ipython3",
   "version": "3.13.2"
  }
 },
 "nbformat": 4,
 "nbformat_minor": 5
}
