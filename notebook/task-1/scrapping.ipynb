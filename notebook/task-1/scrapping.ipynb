{
 "cells": [
  {
   "cell_type": "code",
   "execution_count": 1,
   "id": "b22eae19",
   "metadata": {},
   "outputs": [],
   "source": [
    "import os\n",
    "import sys\n",
    "\n",
    "# Step 1: Set project root path (go up one level from notebooks/)\n",
    "project_root = os.path.abspath(os.path.join(os.getcwd(),\"..\",\"..\"))\n",
    "\n",
    "# Step 2: Add project root to system path\n",
    "if project_root not in sys.path:\n",
    "    sys.path.append(project_root)"
   ]
  },
  {
   "cell_type": "code",
   "execution_count": 2,
   "id": "97b7f1c4",
   "metadata": {},
   "outputs": [],
   "source": [
    "import sys\n",
    "import os\n",
    "\n",
    "# Add src folder to path\n",
    "sys.path.append(os.path.abspath('../../src'))\n"
   ]
  },
  {
   "cell_type": "markdown",
   "id": "7cf6de8f",
   "metadata": {},
   "source": [
    " **Objective**\n",
    "This script initializes a Telegram client and begins scraping data from specified e-commerce channels. The scraped messages are stored in a designated output file for further processing (e.g., for Named Entity Recognition or analytics).\n",
    "\n",
    "**client:** An instance of the Telegram client (most likely from Telethon or Pyrogram).\n",
    "\n",
    "**scrape_multiple:** A custom function to scrape messages from multiple Telegram channels.\n",
    "\n",
    "**channels:** A list of Telegram channel usernames or IDs (defined in config.py).\n",
    "\n",
    "**output_file:** The destination path where scraped messages will be saved.\n",
    "\n",
    "**phone:** The phone number used to authenticate the Telegram client session.\n",
    "\n",
    "\n",
    "**.**Authenticates and starts the Telegram client using the provided phone number.\n",
    "\n",
    "**.**Loops through the list of channels and scrapes messages.\n",
    "\n",
    "**.**Outputs collected data (text, metadata, possibly images) to the file defined by output_file.\n",
    "\n"
   ]
  },
  {
   "cell_type": "code",
   "execution_count": 3,
   "id": "d3404b59",
   "metadata": {},
   "outputs": [
    {
     "name": "stdout",
     "output_type": "stream",
     "text": [
      "Scraping: @ZemenExpress\n",
      "Scraping: @nevacomputer\n",
      "Scraping: @meneshayeofficial\n"
     ]
    },
    {
     "name": "stderr",
     "output_type": "stream",
     "text": [
      "Server closed the connection: [WinError 10054] An existing connection was forcibly closed by the remote host\n"
     ]
    },
    {
     "name": "stdout",
     "output_type": "stream",
     "text": [
      "Scraping: @ethio_brand_collection\n",
      "Scraping: @Leyueqa\n",
      "Scraping: @sinayelj\n",
      "Scraping: @Shewabrand\n",
      "Scraping: @helloomarketethiopia\n"
     ]
    },
    {
     "name": "stderr",
     "output_type": "stream",
     "text": [
      "Server closed the connection: [WinError 10054] An existing connection was forcibly closed by the remote host\n",
      "Attempt 1 at connecting failed: OSError: [Errno 10065] Connect call failed ('149.154.167.91', 443)\n",
      "Attempt 2 at connecting failed: OSError: [Errno 10065] Connect call failed ('149.154.167.91', 443)\n",
      "Attempt 3 at connecting failed: OSError: [Errno 10065] Connect call failed ('149.154.167.91', 443)\n",
      "Attempt 4 at connecting failed: OSError: [Errno 10065] Connect call failed ('149.154.167.91', 443)\n",
      "Attempt 5 at connecting failed: OSError: [Errno 10065] Connect call failed ('149.154.167.91', 443)\n",
      "Attempt 6 at connecting failed: OSError: [Errno 10065] Connect call failed ('149.154.167.91', 443)\n",
      "Attempt 1 at connecting failed: OSError: [Errno 10065] Connect call failed ('149.154.167.91', 443)\n",
      "Attempt 2 at connecting failed: OSError: [Errno 10065] Connect call failed ('149.154.167.91', 443)\n",
      "Attempt 3 at connecting failed: OSError: [Errno 10065] Connect call failed ('149.154.167.91', 443)\n",
      "Attempt 4 at connecting failed: OSError: [Errno 10065] Connect call failed ('149.154.167.91', 443)\n",
      "Attempt 5 at connecting failed: OSError: [Errno 10065] Connect call failed ('149.154.167.91', 443)\n",
      "Attempt 6 at connecting failed: OSError: [Errno 10065] Connect call failed ('149.154.167.91', 443)\n",
      "Attempt 1 at connecting failed: OSError: [Errno 10065] Connect call failed ('149.154.167.91', 443)\n",
      "Attempt 2 at connecting failed: OSError: [Errno 10065] Connect call failed ('149.154.167.91', 443)\n",
      "Attempt 3 at connecting failed: OSError: [Errno 10065] Connect call failed ('149.154.167.91', 443)\n",
      "Server closed the connection: [WinError 10054] An existing connection was forcibly closed by the remote host\n",
      "Attempt 1 at connecting failed: TimeoutError: \n"
     ]
    },
    {
     "name": "stdout",
     "output_type": "stream",
     "text": [
      "Scraping: @modernshoppingcenter\n"
     ]
    },
    {
     "name": "stderr",
     "output_type": "stream",
     "text": [
      "Server closed the connection: [WinError 10054] An existing connection was forcibly closed by the remote host\n",
      "Attempt 1 at connecting failed: OSError: [Errno 10065] Connect call failed ('149.154.167.91', 443)\n",
      "Attempt 2 at connecting failed: OSError: [Errno 10065] Connect call failed ('149.154.167.91', 443)\n",
      "Attempt 3 at connecting failed: OSError: [Errno 10065] Connect call failed ('149.154.167.91', 443)\n",
      "Attempt 4 at connecting failed: OSError: [Errno 10065] Connect call failed ('149.154.167.91', 443)\n",
      "Attempt 5 at connecting failed: OSError: [Errno 10065] Connect call failed ('149.154.167.91', 443)\n",
      "Attempt 6 at connecting failed: OSError: [Errno 10065] Connect call failed ('149.154.167.91', 443)\n",
      "Attempt 1 at connecting failed: OSError: [Errno 10065] Connect call failed ('149.154.167.91', 443)\n",
      "Attempt 2 at connecting failed: OSError: [Errno 10065] Connect call failed ('149.154.167.91', 443)\n",
      "Attempt 3 at connecting failed: OSError: [Errno 10065] Connect call failed ('149.154.167.91', 443)\n",
      "Attempt 4 at connecting failed: OSError: [Errno 10065] Connect call failed ('149.154.167.91', 443)\n",
      "Attempt 5 at connecting failed: OSError: [Errno 10065] Connect call failed ('149.154.167.91', 443)\n",
      "Attempt 6 at connecting failed: OSError: [Errno 10065] Connect call failed ('149.154.167.91', 443)\n",
      "Attempt 1 at connecting failed: OSError: [Errno 10065] Connect call failed ('149.154.167.91', 443)\n",
      "Attempt 2 at connecting failed: OSError: [Errno 10065] Connect call failed ('149.154.167.91', 443)\n",
      "Attempt 3 at connecting failed: OSError: [Errno 10065] Connect call failed ('149.154.167.91', 443)\n",
      "Attempt 4 at connecting failed: OSError: [Errno 10065] Connect call failed ('149.154.167.91', 443)\n",
      "Attempt 5 at connecting failed: OSError: [Errno 10065] Connect call failed ('149.154.167.91', 443)\n",
      "Attempt 6 at connecting failed: OSError: [Errno 10065] Connect call failed ('149.154.167.91', 443)\n",
      "Attempt 1 at connecting failed: OSError: [Errno 10065] Connect call failed ('149.154.167.91', 443)\n",
      "Attempt 2 at connecting failed: OSError: [Errno 10065] Connect call failed ('149.154.167.91', 443)\n",
      "Attempt 3 at connecting failed: OSError: [Errno 10065] Connect call failed ('149.154.167.91', 443)\n",
      "Attempt 4 at connecting failed: OSError: [Errno 10065] Connect call failed ('149.154.167.91', 443)\n",
      "Attempt 5 at connecting failed: OSError: [Errno 10065] Connect call failed ('149.154.167.91', 443)\n",
      "Attempt 6 at connecting failed: OSError: [Errno 10065] Connect call failed ('149.154.167.91', 443)\n"
     ]
    },
    {
     "name": "stdout",
     "output_type": "stream",
     "text": [
      "Scraping: @qnashcom\n",
      "Scraping: @Fashiontera\n"
     ]
    },
    {
     "name": "stderr",
     "output_type": "stream",
     "text": [
      "Server closed the connection: [WinError 10054] An existing connection was forcibly closed by the remote host\n",
      "Attempt 1 at connecting failed: TimeoutError: \n",
      "Attempt 2 at connecting failed: ConnectionAbortedError: [Errno 10053] Connect call failed ('149.154.167.91', 443)\n",
      "Attempt 3 at connecting failed: TimeoutError: \n",
      "Attempt 4 at connecting failed: TimeoutError: \n"
     ]
    },
    {
     "name": "stdout",
     "output_type": "stream",
     "text": [
      "Scraping: @kuruwear\n",
      "Scraping: @gebeyaadama\n",
      "Scraping: @MerttEka\n",
      "Scraping: @forfreemarket\n",
      "Scraping: @classybrands\n",
      "Scraping: @marakibrand\n",
      "Scraping: @aradabrand2\n",
      "✅ Saved all scraped data to: data/raw/telegram_scraped_data.csv\n"
     ]
    },
    {
     "name": "stderr",
     "output_type": "stream",
     "text": [
      "Attempt 1 at connecting failed: TimeoutError: \n",
      "Attempt 2 at connecting failed: TimeoutError: \n",
      "Attempt 3 at connecting failed: TimeoutError: \n",
      "Attempt 4 at connecting failed: TimeoutError: \n",
      "Attempt 5 at connecting failed: ConnectionAbortedError: [Errno 10053] Connect call failed ('149.154.167.91', 443)\n",
      "Attempt 6 at connecting failed: OSError: [Errno 10051] Connect call failed ('149.154.167.91', 443)\n",
      "Attempt 1 at connecting failed: OSError: [Errno 10051] Connect call failed ('149.154.167.91', 443)\n",
      "Attempt 2 at connecting failed: OSError: [Errno 10051] Connect call failed ('149.154.167.91', 443)\n",
      "Attempt 3 at connecting failed: OSError: [Errno 10051] Connect call failed ('149.154.167.91', 443)\n",
      "Attempt 4 at connecting failed: OSError: [Errno 10051] Connect call failed ('149.154.167.91', 443)\n",
      "Attempt 5 at connecting failed: OSError: [Errno 10051] Connect call failed ('149.154.167.91', 443)\n",
      "Attempt 6 at connecting failed: OSError: [Errno 10051] Connect call failed ('149.154.167.91', 443)\n",
      "Attempt 1 at connecting failed: OSError: [Errno 10051] Connect call failed ('149.154.167.91', 443)\n",
      "Attempt 2 at connecting failed: OSError: [Errno 10051] Connect call failed ('149.154.167.91', 443)\n",
      "Attempt 3 at connecting failed: OSError: [Errno 10051] Connect call failed ('149.154.167.91', 443)\n",
      "Attempt 4 at connecting failed: OSError: [Errno 10051] Connect call failed ('149.154.167.91', 443)\n",
      "Attempt 5 at connecting failed: OSError: [Errno 10051] Connect call failed ('149.154.167.91', 443)\n",
      "Attempt 6 at connecting failed: OSError: [Errno 10051] Connect call failed ('149.154.167.91', 443)\n",
      "Attempt 1 at connecting failed: OSError: [Errno 10051] Connect call failed ('149.154.167.91', 443)\n",
      "Attempt 2 at connecting failed: TimeoutError: \n",
      "Attempt 3 at connecting failed: TimeoutError: \n",
      "Attempt 4 at connecting failed: TimeoutError: \n",
      "Attempt 5 at connecting failed: TimeoutError: \n",
      "Attempt 6 at connecting failed: TimeoutError: \n",
      "Attempt 1 at connecting failed: TimeoutError: \n",
      "Attempt 2 at connecting failed: TimeoutError: \n",
      "Attempt 3 at connecting failed: TimeoutError: \n",
      "Attempt 4 at connecting failed: TimeoutError: \n",
      "Attempt 5 at connecting failed: TimeoutError: \n",
      "Attempt 6 at connecting failed: TimeoutError: \n",
      "Automatic reconnection failed 5 time(s)\n",
      "Future exception was never retrieved\n",
      "future: <Future finished exception=ConnectionError('Connection to Telegram failed 5 time(s)')>\n",
      "ConnectionError: Connection to Telegram failed 5 time(s)\n"
     ]
    }
   ],
   "source": [
    "from scrapper import client, scrape_multiple\n",
    "from config import channels, output_file,phone\n",
    "import asyncio\n",
    "\n",
    "await client.start(phone=phone)\n",
    "await scrape_multiple(channels, output_file)\n",
    "\n",
    "\n"
   ]
  }
 ],
 "metadata": {
  "kernelspec": {
   "display_name": ".venv",
   "language": "python",
   "name": "python3"
  },
  "language_info": {
   "codemirror_mode": {
    "name": "ipython",
    "version": 3
   },
   "file_extension": ".py",
   "mimetype": "text/x-python",
   "name": "python",
   "nbconvert_exporter": "python",
   "pygments_lexer": "ipython3",
   "version": "3.13.2"
  }
 },
 "nbformat": 4,
 "nbformat_minor": 5
}
