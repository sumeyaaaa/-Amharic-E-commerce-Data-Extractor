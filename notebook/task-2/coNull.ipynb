{
 "cells": [
  {
   "cell_type": "code",
   "execution_count": 5,
   "id": "18db0ed6",
   "metadata": {},
   "outputs": [],
   "source": [
    "import os\n",
    "import sys\n",
    "\n",
    "# Step 1: Set project root path (go up one level from notebooks/)\n",
    "project_root = os.path.abspath(os.path.join(os.getcwd(),\"..\",\"..\"))\n",
    "\n",
    "# Step 2: Add project root to system path\n",
    "if project_root not in sys.path:\n",
    "    sys.path.append(project_root)"
   ]
  },
  {
   "cell_type": "code",
   "execution_count": 6,
   "id": "e8864466",
   "metadata": {},
   "outputs": [],
   "source": [
    "import sys\n",
    "import os\n",
    "\n",
    "# Add src folder to path\n",
    "sys.path.append(os.path.abspath('../../src'))"
   ]
  },
  {
   "cell_type": "markdown",
   "id": "9a47ae2c",
   "metadata": {},
   "source": [
    "# Task 2: Convert Telegram Messages to Tokenized Format for CoNLL Annotation\n",
    "\n",
    "## Objective\n",
    "This script prepares the selected top messages (from each Telegram channel) for manual annotation in CoNLL format. It performs the following steps:\n",
    "- Reads the pre-selected messages from a CSV file.\n",
    "- Removes metadata columns (`channel_username`, `text_length`).\n",
    "- Tokenizes each message into individual words.\n",
    "- Writes the output in a token-per-line format with blank lines separating messages, making it ready for manual labeling.\n",
    "\n",
    "---\n",
    "\n",
    "## Steps Performed\n",
    "\n",
    "1. **Load the Dataset**\n",
    "   - Reads the `top_30_messages_per_channel.csv` file using `pandas`.\n",
    "\n",
    "2. **Drop Unnecessary Columns**\n",
    "   - Removes `channel_username` and `text_length` columns which are not required for annotation.\n",
    "\n",
    "3. **Tokenization and Export**\n",
    "   - Each message in the `text` column is split into tokens (words).\n",
    "   - Each token is written on a new line.\n",
    "   - A blank line is added after each message to follow the CoNLL format convention.\n",
    "\n",
    "---\n",
    "\n",
    "## Output\n",
    "The processed messages are saved to text format.\n"
   ]
  },
  {
   "cell_type": "code",
   "execution_count": 7,
   "id": "88faf65b",
   "metadata": {},
   "outputs": [],
   "source": [
    "import pandas as pd\n",
    "\n",
    "# This will auto-detect column names correctly from your existing CSV\n",
    "df = pd.read_csv(r\"C:\\Users\\ABC\\Desktop\\10Acadamy\\week 4\\-Amharic-E-commerce-Data-Extractor\\data\\processed\\top_30_messages_per_channel.csv\")\n",
    "\n",
    "import pandas as pd\n",
    "from coNLL import export_conll_tokens\n",
    "# Export tokenized messages\n",
    "export_conll_tokens(df, \"conll_ready_tokenized.txt\")\n"
   ]
  },
  {
   "cell_type": "code",
   "execution_count": null,
   "id": "b1d3de8b",
   "metadata": {},
   "outputs": [],
   "source": []
  },
  {
   "cell_type": "markdown",
   "id": "06f5bd03",
   "metadata": {},
   "source": [
    "\n",
    "## Labeling Schema\n",
    "\n",
    "Below is the list of all entity labels to be used during annotation:\n",
    "\n",
    "- **O**: Outside of any entity\n",
    "- **B-PRODUCT**, **I-PRODUCT**: Product name or type\n",
    "- **B-AUDIENCE**: Intended user or target group (e.g., \"ህጻናት\", \"ሴቶች\")\n",
    "- **B-BRAND**, **I-BRAND**: Brand or company names\n",
    "- **B-COMPONENT**, **I-COMPONENT**: Specific product components or ingredients\n",
    "- **B-TASK**, **I-TASK**: Actions the user is asked to take (e.g., “ይደውሉ”, “ላኩ”)\n",
    "- **B-CONTACT_INFO**: Contact methods such as phone numbers or Telegram usernames\n",
    "- **B-PRICE**, **I-PRICE**: Monetary values or product prices\n",
    "- **B-LOC**, **I-LOC**: Location or area mentions\n",
    "- **B-DATE**, **I-DATE**: Dates or time references\n",
    "- **B-FEATURE**, **I-FEATURE**: Product specifications or special features\n",
    "- **B-ATTRIBUTE**, **I-ATTRIBUTE**: Qualitative descriptors or product characteristics\n",
    "\n",
    "## Output Path\n",
    "The top 30 messages per channel are saved to the following location for labeling with the above label.\n",
    "\n"
   ]
  },
  {
   "cell_type": "code",
   "execution_count": 8,
   "id": "8a2c6991",
   "metadata": {},
   "outputs": [],
   "source": [
    "import pandas as pd\n",
    "# This will auto-detect column names correctly from your existing CSV\n",
    "df_nocoll = pd.read_excel(r\"C:\\Users\\ABC\\Downloads\\Untitled spreadsheet.xlsx\")\n"
   ]
  },
  {
   "cell_type": "code",
   "execution_count": 9,
   "id": "ef4de046",
   "metadata": {},
   "outputs": [
    {
     "data": {
      "text/html": [
       "<div>\n",
       "<style scoped>\n",
       "    .dataframe tbody tr th:only-of-type {\n",
       "        vertical-align: middle;\n",
       "    }\n",
       "\n",
       "    .dataframe tbody tr th {\n",
       "        vertical-align: top;\n",
       "    }\n",
       "\n",
       "    .dataframe thead th {\n",
       "        text-align: right;\n",
       "    }\n",
       "</style>\n",
       "<table border=\"1\" class=\"dataframe\">\n",
       "  <thead>\n",
       "    <tr style=\"text-align: right;\">\n",
       "      <th></th>\n",
       "      <th>A</th>\n",
       "      <th>Label</th>\n",
       "    </tr>\n",
       "  </thead>\n",
       "  <tbody>\n",
       "    <tr>\n",
       "      <th>0</th>\n",
       "      <td>Acer</td>\n",
       "      <td>B-Product:</td>\n",
       "    </tr>\n",
       "    <tr>\n",
       "      <th>1</th>\n",
       "      <td>Nitro</td>\n",
       "      <td>B-Product:</td>\n",
       "    </tr>\n",
       "    <tr>\n",
       "      <th>2</th>\n",
       "      <td>5</td>\n",
       "      <td>B-Product:</td>\n",
       "    </tr>\n",
       "    <tr>\n",
       "      <th>3</th>\n",
       "      <td>Display</td>\n",
       "      <td>o</td>\n",
       "    </tr>\n",
       "    <tr>\n",
       "      <th>4</th>\n",
       "      <td>🖥️</td>\n",
       "      <td>o</td>\n",
       "    </tr>\n",
       "    <tr>\n",
       "      <th>5</th>\n",
       "      <td>15.6”</td>\n",
       "      <td>B-Product</td>\n",
       "    </tr>\n",
       "    <tr>\n",
       "      <th>6</th>\n",
       "      <td>Full</td>\n",
       "      <td>I-Product</td>\n",
       "    </tr>\n",
       "    <tr>\n",
       "      <th>7</th>\n",
       "      <td>HD</td>\n",
       "      <td>I-Product</td>\n",
       "    </tr>\n",
       "    <tr>\n",
       "      <th>8</th>\n",
       "      <td>(1920×1080)</td>\n",
       "      <td>I-Product</td>\n",
       "    </tr>\n",
       "    <tr>\n",
       "      <th>9</th>\n",
       "      <td>IPS</td>\n",
       "      <td>I-Product</td>\n",
       "    </tr>\n",
       "    <tr>\n",
       "      <th>10</th>\n",
       "      <td>Panel</td>\n",
       "      <td>I-Product</td>\n",
       "    </tr>\n",
       "    <tr>\n",
       "      <th>11</th>\n",
       "      <td>|</td>\n",
       "      <td>o</td>\n",
       "    </tr>\n",
       "    <tr>\n",
       "      <th>12</th>\n",
       "      <td>🎯</td>\n",
       "      <td>o</td>\n",
       "    </tr>\n",
       "    <tr>\n",
       "      <th>13</th>\n",
       "      <td>144Hz</td>\n",
       "      <td>I-Product</td>\n",
       "    </tr>\n",
       "    <tr>\n",
       "      <th>14</th>\n",
       "      <td>(smooth</td>\n",
       "      <td>o</td>\n",
       "    </tr>\n",
       "  </tbody>\n",
       "</table>\n",
       "</div>"
      ],
      "text/plain": [
       "              A       Label\n",
       "0          Acer  B-Product:\n",
       "1         Nitro  B-Product:\n",
       "2             5  B-Product:\n",
       "3       Display           o\n",
       "4            🖥️           o\n",
       "5         15.6”   B-Product\n",
       "6          Full   I-Product\n",
       "7            HD   I-Product\n",
       "8   (1920×1080)   I-Product\n",
       "9           IPS   I-Product\n",
       "10        Panel   I-Product\n",
       "11            |           o\n",
       "12            🎯           o\n",
       "13        144Hz   I-Product\n",
       "14      (smooth           o"
      ]
     },
     "execution_count": 9,
     "metadata": {},
     "output_type": "execute_result"
    }
   ],
   "source": [
    "df_nocoll.head(15)"
   ]
  },
  {
   "cell_type": "code",
   "execution_count": 10,
   "id": "e31070ea",
   "metadata": {},
   "outputs": [
    {
     "data": {
      "text/plain": [
       "763"
      ]
     },
     "execution_count": 10,
     "metadata": {},
     "output_type": "execute_result"
    }
   ],
   "source": [
    "#Drop any rows where the 'Label' column is null or empty\n",
    "df_nocoll= df_nocoll.dropna(subset=['Label'])\n",
    "df_nocoll = df_nocoll[ df_nocoll['Label'].astype(str).str.strip() != \"\"]\n",
    "\n",
    "# Count how many tokens are labeled with non-\"O\" labels (i.e., actually annotated)\n",
    "labeled_count = ( df_nocoll['Label'] != 'O').sum()\n",
    "\n",
    "# Total tokens\n",
    "total_tokens = len( df_nocoll)\n",
    "total_tokens"
   ]
  },
  {
   "cell_type": "markdown",
   "id": "d932544a",
   "metadata": {},
   "source": [
    "# Task 2: Post-Labeling Cleanup and Label Coverage Analysis\n",
    "\n",
    "## Objective\n",
    "After manually labeling tokens with their respective entity tags (e.g., `B-PRODUCT`, `I-PRICE`, etc.), this script performs data cleanup and provides summary statistics. It ensures the dataset is free from incomplete annotations and gives insight into the proportion of tokens that were actually labeled with an entity (i.e., not just marked as \"O\").\n",
    "\n",
    "---\n",
    "\n",
    "## Steps Performed\n",
    "\n",
    "1. **Remove Unlabeled Rows**\n",
    "   - Any rows where the `Label` column is missing (`NaN`) or empty (`\"\"`) are removed.\n",
    "   - This ensures the final dataset only contains valid token-label pairs.\n",
    "\n",
    "2. **Count Labeled Tokens**\n",
    "   - Calculates the number of tokens that have been labeled with something **other than** `\"O\"` (outside any entity).\n",
    "   - This count represents tokens that are part of actual entities.\n",
    "\n",
    "3. **Calculate Total Tokens**\n",
    "   - Counts the total number of tokens remaining in the dataset after cleanup.\n",
    "\n",
    "---\n",
    "\n",
    "## Metrics\n",
    "\n",
    "- **`labeled_count`**: Number of tokens annotated with real entity labels (not \"O\").\n",
    "- **`total_tokens`**: Total number of token-label rows after cleaning.\n",
    "\n",
    "These values are useful to:\n",
    "- Check annotation completeness.\n",
    "\n"
   ]
  },
  {
   "cell_type": "code",
   "execution_count": 11,
   "id": "8b5dbe69",
   "metadata": {},
   "outputs": [
    {
     "data": {
      "text/plain": [
       "np.int64(409)"
      ]
     },
     "execution_count": 11,
     "metadata": {},
     "output_type": "execute_result"
    }
   ],
   "source": [
    "labeled_count"
   ]
  },
  {
   "cell_type": "code",
   "execution_count": 12,
   "id": "7ea1612a",
   "metadata": {},
   "outputs": [
    {
     "name": "stdout",
     "output_type": "stream",
     "text": [
      "Labeled token coverage: 53.60%\n"
     ]
    }
   ],
   "source": [
    "coverage = labeled_count / total_tokens\n",
    "print(f\"Labeled token coverage: {coverage:.2%}\")\n"
   ]
  },
  {
   "cell_type": "markdown",
   "id": "c6f49b31",
   "metadata": {},
   "source": [
    "53.60% of the tokens are labeled with actual entity tags (like B-PRODUCT, I-LOC, etc.)\n",
    "\n",
    "46.40% of the tokens are labeled as 'O', meaning they are not part of any named entity."
   ]
  },
  {
   "cell_type": "code",
   "execution_count": null,
   "id": "0f9025e9",
   "metadata": {},
   "outputs": [],
   "source": [
    "output_path = r\"C:\\Users\\ABC\\Desktop\\10Acadamy\\week 4\\-Amharic-E-commerce-Data-Extractor\\data\\processed\\conull.csv\"\n",
    "df_nocoll.to_csv(output_path, index=False)\n"
   ]
  }
 ],
 "metadata": {
  "kernelspec": {
   "display_name": ".venv",
   "language": "python",
   "name": "python3"
  },
  "language_info": {
   "codemirror_mode": {
    "name": "ipython",
    "version": 3
   },
   "file_extension": ".py",
   "mimetype": "text/x-python",
   "name": "python",
   "nbconvert_exporter": "python",
   "pygments_lexer": "ipython3",
   "version": "3.13.2"
  }
 },
 "nbformat": 4,
 "nbformat_minor": 5
}
